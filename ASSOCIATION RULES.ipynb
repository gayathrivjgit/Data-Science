{
 "cells": [
  {
   "cell_type": "code",
   "execution_count": 1,
   "id": "4be249b9-cff2-4630-b4df-b903931ed2dd",
   "metadata": {},
   "outputs": [],
   "source": [
    "import pandas as pd"
   ]
  },
  {
   "cell_type": "code",
   "execution_count": 2,
   "id": "3232d0a3-5c32-4c72-b017-833e269cb5d3",
   "metadata": {},
   "outputs": [],
   "source": [
    "df = pd.read_csv('Online retail.csv',header=None)  \n",
    "df.columns = ['Items']"
   ]
  },
  {
   "cell_type": "code",
   "execution_count": 3,
   "id": "9c72a94c-4fb0-477d-b9ed-e882489bd839",
   "metadata": {},
   "outputs": [
    {
     "data": {
      "text/html": [
       "<div>\n",
       "<style scoped>\n",
       "    .dataframe tbody tr th:only-of-type {\n",
       "        vertical-align: middle;\n",
       "    }\n",
       "\n",
       "    .dataframe tbody tr th {\n",
       "        vertical-align: top;\n",
       "    }\n",
       "\n",
       "    .dataframe thead th {\n",
       "        text-align: right;\n",
       "    }\n",
       "</style>\n",
       "<table border=\"1\" class=\"dataframe\">\n",
       "  <thead>\n",
       "    <tr style=\"text-align: right;\">\n",
       "      <th></th>\n",
       "      <th>Items</th>\n",
       "    </tr>\n",
       "  </thead>\n",
       "  <tbody>\n",
       "    <tr>\n",
       "      <th>0</th>\n",
       "      <td>shrimp,almonds,avocado,vegetables mix,green gr...</td>\n",
       "    </tr>\n",
       "    <tr>\n",
       "      <th>1</th>\n",
       "      <td>burgers,meatballs,eggs</td>\n",
       "    </tr>\n",
       "    <tr>\n",
       "      <th>2</th>\n",
       "      <td>chutney</td>\n",
       "    </tr>\n",
       "    <tr>\n",
       "      <th>3</th>\n",
       "      <td>turkey,avocado</td>\n",
       "    </tr>\n",
       "    <tr>\n",
       "      <th>4</th>\n",
       "      <td>mineral water,milk,energy bar,whole wheat rice...</td>\n",
       "    </tr>\n",
       "  </tbody>\n",
       "</table>\n",
       "</div>"
      ],
      "text/plain": [
       "                                               Items\n",
       "0  shrimp,almonds,avocado,vegetables mix,green gr...\n",
       "1                             burgers,meatballs,eggs\n",
       "2                                            chutney\n",
       "3                                     turkey,avocado\n",
       "4  mineral water,milk,energy bar,whole wheat rice..."
      ]
     },
     "execution_count": 3,
     "metadata": {},
     "output_type": "execute_result"
    }
   ],
   "source": [
    "df.head()"
   ]
  },
  {
   "cell_type": "markdown",
   "id": "5e8781b8-b151-43f4-a4ce-56f6e3d3d4f6",
   "metadata": {},
   "source": [
    "# **Data Preprocessing**"
   ]
  },
  {
   "cell_type": "code",
   "execution_count": 4,
   "id": "fd151cc3-dff3-4692-9169-1a53a774608d",
   "metadata": {},
   "outputs": [
    {
     "name": "stdout",
     "output_type": "stream",
     "text": [
      "<class 'pandas.core.frame.DataFrame'>\n",
      "RangeIndex: 7501 entries, 0 to 7500\n",
      "Data columns (total 1 columns):\n",
      " #   Column  Non-Null Count  Dtype \n",
      "---  ------  --------------  ----- \n",
      " 0   Items   7501 non-null   object\n",
      "dtypes: object(1)\n",
      "memory usage: 58.7+ KB\n"
     ]
    }
   ],
   "source": [
    "df.info()"
   ]
  },
  {
   "cell_type": "code",
   "execution_count": 5,
   "id": "2b7dd87c-3246-4663-8b1d-227e04cb54b9",
   "metadata": {},
   "outputs": [
    {
     "data": {
      "text/plain": [
       "Items    0\n",
       "dtype: int64"
      ]
     },
     "execution_count": 5,
     "metadata": {},
     "output_type": "execute_result"
    }
   ],
   "source": [
    "df.isnull().sum()"
   ]
  },
  {
   "cell_type": "code",
   "execution_count": 6,
   "id": "10ce9bf4-2e9d-431c-8cf5-668385a0edd1",
   "metadata": {},
   "outputs": [
    {
     "data": {
      "text/plain": [
       "0    [shrimp, almonds, avocado, vegetables mix, gre...\n",
       "1                           [burgers, meatballs, eggs]\n",
       "2                                            [chutney]\n",
       "3                                    [turkey, avocado]\n",
       "4    [mineral water, milk, energy bar, whole wheat ...\n",
       "Name: Items, dtype: object"
      ]
     },
     "execution_count": 6,
     "metadata": {},
     "output_type": "execute_result"
    }
   ],
   "source": [
    "# Convert the dataset into a list of transactions (splitting by comma)\n",
    "transactions = df.iloc[:, 0].apply(lambda x: x.split(','))\n",
    "\n",
    "# Display the first few transactions to verify the transformation\n",
    "transactions.head()\n"
   ]
  },
  {
   "cell_type": "markdown",
   "id": "1fd328ad-b0ec-4646-8b4d-7c6a111fa057",
   "metadata": {},
   "source": [
    "# **Association Rule Mining**"
   ]
  },
  {
   "cell_type": "code",
   "execution_count": 7,
   "id": "82f8d49a-af8c-4365-8b8f-7a5cbc58eb4b",
   "metadata": {},
   "outputs": [
    {
     "name": "stdout",
     "output_type": "stream",
     "text": [
      "Collecting mlxtend\n",
      "  Using cached mlxtend-0.23.2-py3-none-any.whl (1.4 MB)\n",
      "Collecting scikit-learn>=1.3.1\n",
      "  Using cached scikit_learn-1.5.2-cp39-cp39-win_amd64.whl (11.0 MB)\n",
      "Requirement already satisfied: pandas>=0.24.2 in c:\\users\\dell\\anaconda3\\lib\\site-packages (from mlxtend) (1.4.4)\n",
      "Requirement already satisfied: scipy>=1.2.1 in c:\\users\\dell\\anaconda3\\lib\\site-packages (from mlxtend) (1.9.1)\n",
      "Requirement already satisfied: joblib>=0.13.2 in c:\\users\\dell\\anaconda3\\lib\\site-packages (from mlxtend) (1.1.0)\n",
      "Requirement already satisfied: matplotlib>=3.0.0 in c:\\users\\dell\\anaconda3\\lib\\site-packages (from mlxtend) (3.5.2)\n",
      "Requirement already satisfied: numpy>=1.16.2 in c:\\users\\dell\\anaconda3\\lib\\site-packages (from mlxtend) (1.24.4)\n",
      "Requirement already satisfied: cycler>=0.10 in c:\\users\\dell\\anaconda3\\lib\\site-packages (from matplotlib>=3.0.0->mlxtend) (0.11.0)\n",
      "Requirement already satisfied: packaging>=20.0 in c:\\users\\dell\\anaconda3\\lib\\site-packages (from matplotlib>=3.0.0->mlxtend) (21.3)\n",
      "Requirement already satisfied: fonttools>=4.22.0 in c:\\users\\dell\\anaconda3\\lib\\site-packages (from matplotlib>=3.0.0->mlxtend) (4.25.0)\n",
      "Requirement already satisfied: kiwisolver>=1.0.1 in c:\\users\\dell\\anaconda3\\lib\\site-packages (from matplotlib>=3.0.0->mlxtend) (1.4.2)\n",
      "Requirement already satisfied: pillow>=6.2.0 in c:\\users\\dell\\anaconda3\\lib\\site-packages (from matplotlib>=3.0.0->mlxtend) (9.2.0)\n",
      "Requirement already satisfied: python-dateutil>=2.7 in c:\\users\\dell\\anaconda3\\lib\\site-packages (from matplotlib>=3.0.0->mlxtend) (2.8.2)\n",
      "Requirement already satisfied: pyparsing>=2.2.1 in c:\\users\\dell\\anaconda3\\lib\\site-packages (from matplotlib>=3.0.0->mlxtend) (3.0.9)\n",
      "Requirement already satisfied: pytz>=2020.1 in c:\\users\\dell\\anaconda3\\lib\\site-packages (from pandas>=0.24.2->mlxtend) (2022.1)\n",
      "Collecting joblib>=0.13.2\n",
      "  Using cached joblib-1.4.2-py3-none-any.whl (301 kB)\n",
      "Requirement already satisfied: threadpoolctl>=3.1.0 in c:\\users\\dell\\anaconda3\\lib\\site-packages (from scikit-learn>=1.3.1->mlxtend) (3.5.0)\n",
      "Requirement already satisfied: six>=1.5 in c:\\users\\dell\\anaconda3\\lib\\site-packages (from python-dateutil>=2.7->matplotlib>=3.0.0->mlxtend) (1.16.0)\n",
      "Installing collected packages: joblib, scikit-learn, mlxtend\n",
      "  Attempting uninstall: joblib\n",
      "    Found existing installation: joblib 1.1.0\n",
      "    Uninstalling joblib-1.1.0:\n",
      "      Successfully uninstalled joblib-1.1.0\n",
      "  Attempting uninstall: scikit-learn\n",
      "    Found existing installation: scikit-learn 1.0.2\n",
      "    Uninstalling scikit-learn-1.0.2:\n",
      "      Successfully uninstalled scikit-learn-1.0.2\n",
      "Successfully installed joblib-1.4.2 mlxtend-0.23.2 scikit-learn-1.5.2\n"
     ]
    }
   ],
   "source": [
    "!pip install -U mlxtend"
   ]
  },
  {
   "cell_type": "code",
   "execution_count": 8,
   "id": "5bd65ff4-8922-47d2-8f60-c50b52fbbe57",
   "metadata": {},
   "outputs": [],
   "source": [
    "from mlxtend.frequent_patterns import apriori, association_rules\n",
    "from mlxtend.preprocessing import TransactionEncoder"
   ]
  },
  {
   "cell_type": "code",
   "execution_count": 9,
   "id": "e0713410-7a79-48fe-83b9-b613f6148b16",
   "metadata": {},
   "outputs": [],
   "source": [
    "# Convert transactions into a one-hot encoded DataFrame\n",
    "te = TransactionEncoder()\n",
    "te_ary = te.fit(transactions).transform(transactions)\n",
    "df_encoded = pd.DataFrame(te_ary, columns=te.columns_)"
   ]
  },
  {
   "cell_type": "code",
   "execution_count": 10,
   "id": "fcde8766-bd0a-4e38-91cb-f0bd338b5eb5",
   "metadata": {},
   "outputs": [],
   "source": [
    "# Set minimum support threshold (e.g., 0.01 for 1%)\n",
    "min_support = 0.01"
   ]
  },
  {
   "cell_type": "code",
   "execution_count": 11,
   "id": "335ecc06-bdd2-41b3-a2ed-5f1208f56259",
   "metadata": {},
   "outputs": [],
   "source": [
    "# Generate frequent itemsets with minimum support\n",
    "frequent_itemsets = apriori(df_encoded, min_support=min_support, use_colnames=True)"
   ]
  },
  {
   "cell_type": "code",
   "execution_count": 12,
   "id": "226f39fb-d19f-478c-8b3a-e4b8b54b48c0",
   "metadata": {},
   "outputs": [
    {
     "data": {
      "text/html": [
       "<div>\n",
       "<style scoped>\n",
       "    .dataframe tbody tr th:only-of-type {\n",
       "        vertical-align: middle;\n",
       "    }\n",
       "\n",
       "    .dataframe tbody tr th {\n",
       "        vertical-align: top;\n",
       "    }\n",
       "\n",
       "    .dataframe thead th {\n",
       "        text-align: right;\n",
       "    }\n",
       "</style>\n",
       "<table border=\"1\" class=\"dataframe\">\n",
       "  <thead>\n",
       "    <tr style=\"text-align: right;\">\n",
       "      <th></th>\n",
       "      <th>support</th>\n",
       "      <th>itemsets</th>\n",
       "    </tr>\n",
       "  </thead>\n",
       "  <tbody>\n",
       "    <tr>\n",
       "      <th>0</th>\n",
       "      <td>0.020397</td>\n",
       "      <td>(almonds)</td>\n",
       "    </tr>\n",
       "    <tr>\n",
       "      <th>1</th>\n",
       "      <td>0.033329</td>\n",
       "      <td>(avocado)</td>\n",
       "    </tr>\n",
       "    <tr>\n",
       "      <th>2</th>\n",
       "      <td>0.010799</td>\n",
       "      <td>(barbecue sauce)</td>\n",
       "    </tr>\n",
       "    <tr>\n",
       "      <th>3</th>\n",
       "      <td>0.014265</td>\n",
       "      <td>(black tea)</td>\n",
       "    </tr>\n",
       "    <tr>\n",
       "      <th>4</th>\n",
       "      <td>0.011465</td>\n",
       "      <td>(body spray)</td>\n",
       "    </tr>\n",
       "  </tbody>\n",
       "</table>\n",
       "</div>"
      ],
      "text/plain": [
       "    support          itemsets\n",
       "0  0.020397         (almonds)\n",
       "1  0.033329         (avocado)\n",
       "2  0.010799  (barbecue sauce)\n",
       "3  0.014265       (black tea)\n",
       "4  0.011465      (body spray)"
      ]
     },
     "execution_count": 12,
     "metadata": {},
     "output_type": "execute_result"
    }
   ],
   "source": [
    "frequent_itemsets.head()"
   ]
  },
  {
   "cell_type": "code",
   "execution_count": 13,
   "id": "1b46b950-8b83-41a5-970e-02c7bf59ac49",
   "metadata": {},
   "outputs": [],
   "source": [
    "min_confidence = 0.2\n",
    "min_lift = 1.2"
   ]
  },
  {
   "cell_type": "code",
   "execution_count": 14,
   "id": "df3ea457-a440-478f-8f6a-1e1f8d420769",
   "metadata": {},
   "outputs": [],
   "source": [
    "rules = association_rules(frequent_itemsets, metric=\"confidence\", min_threshold=min_confidence,num_itemsets=len(frequent_itemsets))\n"
   ]
  },
  {
   "cell_type": "code",
   "execution_count": 15,
   "id": "0c90df28-afb8-44ba-8c1d-6410780e65cf",
   "metadata": {},
   "outputs": [
    {
     "data": {
      "text/html": [
       "<div>\n",
       "<style scoped>\n",
       "    .dataframe tbody tr th:only-of-type {\n",
       "        vertical-align: middle;\n",
       "    }\n",
       "\n",
       "    .dataframe tbody tr th {\n",
       "        vertical-align: top;\n",
       "    }\n",
       "\n",
       "    .dataframe thead th {\n",
       "        text-align: right;\n",
       "    }\n",
       "</style>\n",
       "<table border=\"1\" class=\"dataframe\">\n",
       "  <thead>\n",
       "    <tr style=\"text-align: right;\">\n",
       "      <th></th>\n",
       "      <th>antecedents</th>\n",
       "      <th>consequents</th>\n",
       "      <th>support</th>\n",
       "      <th>confidence</th>\n",
       "      <th>lift</th>\n",
       "    </tr>\n",
       "  </thead>\n",
       "  <tbody>\n",
       "    <tr>\n",
       "      <th>0</th>\n",
       "      <td>(avocado)</td>\n",
       "      <td>(mineral water)</td>\n",
       "      <td>0.011598</td>\n",
       "      <td>0.348000</td>\n",
       "      <td>1.459926</td>\n",
       "    </tr>\n",
       "    <tr>\n",
       "      <th>1</th>\n",
       "      <td>(burgers)</td>\n",
       "      <td>(eggs)</td>\n",
       "      <td>0.028796</td>\n",
       "      <td>0.330275</td>\n",
       "      <td>1.837830</td>\n",
       "    </tr>\n",
       "    <tr>\n",
       "      <th>2</th>\n",
       "      <td>(burgers)</td>\n",
       "      <td>(french fries)</td>\n",
       "      <td>0.021997</td>\n",
       "      <td>0.252294</td>\n",
       "      <td>1.476173</td>\n",
       "    </tr>\n",
       "    <tr>\n",
       "      <th>3</th>\n",
       "      <td>(burgers)</td>\n",
       "      <td>(green tea)</td>\n",
       "      <td>0.017464</td>\n",
       "      <td>0.200306</td>\n",
       "      <td>1.516139</td>\n",
       "    </tr>\n",
       "    <tr>\n",
       "      <th>4</th>\n",
       "      <td>(burgers)</td>\n",
       "      <td>(milk)</td>\n",
       "      <td>0.017864</td>\n",
       "      <td>0.204893</td>\n",
       "      <td>1.581175</td>\n",
       "    </tr>\n",
       "  </tbody>\n",
       "</table>\n",
       "</div>"
      ],
      "text/plain": [
       "  antecedents      consequents   support  confidence      lift\n",
       "0   (avocado)  (mineral water)  0.011598    0.348000  1.459926\n",
       "1   (burgers)           (eggs)  0.028796    0.330275  1.837830\n",
       "2   (burgers)   (french fries)  0.021997    0.252294  1.476173\n",
       "3   (burgers)      (green tea)  0.017464    0.200306  1.516139\n",
       "4   (burgers)           (milk)  0.017864    0.204893  1.581175"
      ]
     },
     "execution_count": 15,
     "metadata": {},
     "output_type": "execute_result"
    }
   ],
   "source": [
    "rules = rules[rules['lift'] >= min_lift]\n",
    "\n",
    "# Display the generated rules\n",
    "rules[['antecedents', 'consequents', 'support', 'confidence', 'lift']].head()"
   ]
  },
  {
   "cell_type": "markdown",
   "id": "6f8b95f8-af30-4fe4-803d-e8dcaf114936",
   "metadata": {},
   "source": [
    "# **Analysis and Interpretation**"
   ]
  },
  {
   "cell_type": "code",
   "execution_count": 16,
   "id": "eb633cb2-07be-4edd-91c8-1b0370ae10e8",
   "metadata": {},
   "outputs": [
    {
     "data": {
      "text/html": [
       "<div>\n",
       "<style scoped>\n",
       "    .dataframe tbody tr th:only-of-type {\n",
       "        vertical-align: middle;\n",
       "    }\n",
       "\n",
       "    .dataframe tbody tr th {\n",
       "        vertical-align: top;\n",
       "    }\n",
       "\n",
       "    .dataframe thead th {\n",
       "        text-align: right;\n",
       "    }\n",
       "</style>\n",
       "<table border=\"1\" class=\"dataframe\">\n",
       "  <thead>\n",
       "    <tr style=\"text-align: right;\">\n",
       "      <th></th>\n",
       "      <th>antecedents</th>\n",
       "      <th>consequents</th>\n",
       "      <th>support</th>\n",
       "      <th>confidence</th>\n",
       "      <th>lift</th>\n",
       "    </tr>\n",
       "  </thead>\n",
       "  <tbody>\n",
       "    <tr>\n",
       "      <th>75</th>\n",
       "      <td>(herb &amp; pepper)</td>\n",
       "      <td>(ground beef)</td>\n",
       "      <td>0.015998</td>\n",
       "      <td>0.323450</td>\n",
       "      <td>3.291994</td>\n",
       "    </tr>\n",
       "    <tr>\n",
       "      <th>153</th>\n",
       "      <td>(spaghetti, mineral water)</td>\n",
       "      <td>(ground beef)</td>\n",
       "      <td>0.017064</td>\n",
       "      <td>0.285714</td>\n",
       "      <td>2.907928</td>\n",
       "    </tr>\n",
       "    <tr>\n",
       "      <th>69</th>\n",
       "      <td>(tomatoes)</td>\n",
       "      <td>(frozen vegetables)</td>\n",
       "      <td>0.016131</td>\n",
       "      <td>0.235867</td>\n",
       "      <td>2.474464</td>\n",
       "    </tr>\n",
       "    <tr>\n",
       "      <th>67</th>\n",
       "      <td>(shrimp)</td>\n",
       "      <td>(frozen vegetables)</td>\n",
       "      <td>0.016664</td>\n",
       "      <td>0.233209</td>\n",
       "      <td>2.446574</td>\n",
       "    </tr>\n",
       "    <tr>\n",
       "      <th>145</th>\n",
       "      <td>(milk, mineral water)</td>\n",
       "      <td>(frozen vegetables)</td>\n",
       "      <td>0.011065</td>\n",
       "      <td>0.230556</td>\n",
       "      <td>2.418737</td>\n",
       "    </tr>\n",
       "  </tbody>\n",
       "</table>\n",
       "</div>"
      ],
      "text/plain": [
       "                    antecedents          consequents   support  confidence  \\\n",
       "75              (herb & pepper)        (ground beef)  0.015998    0.323450   \n",
       "153  (spaghetti, mineral water)        (ground beef)  0.017064    0.285714   \n",
       "69                   (tomatoes)  (frozen vegetables)  0.016131    0.235867   \n",
       "67                     (shrimp)  (frozen vegetables)  0.016664    0.233209   \n",
       "145       (milk, mineral water)  (frozen vegetables)  0.011065    0.230556   \n",
       "\n",
       "         lift  \n",
       "75   3.291994  \n",
       "153  2.907928  \n",
       "69   2.474464  \n",
       "67   2.446574  \n",
       "145  2.418737  "
      ]
     },
     "execution_count": 16,
     "metadata": {},
     "output_type": "execute_result"
    }
   ],
   "source": [
    "# Sort rules by lift in descending order\n",
    "sorted_rules = rules.sort_values(by='lift', ascending=False)\n",
    "sorted_rules[['antecedents', 'consequents', 'support', 'confidence', 'lift']].head()"
   ]
  },
  {
   "cell_type": "markdown",
   "id": "17f3452c-79bb-47c7-9015-c225997cf3b6",
   "metadata": {},
   "source": [
    "Looking at the top 5 association rules sorted by lift, here are some interesting patterns and relationships :\n",
    "\n",
    "# 1.(Herb & Pepper) → (Ground Beef):\n",
    "\n",
    "Support: 0.016 (1.6% of transactions)\n",
    "\n",
    "Confidence: 0.32 (32.3% of transactions that include herb & pepper also include ground beef)\n",
    "\n",
    "Lift: 3.29 (This rule suggests that ground beef is 3.29 times more likely to be purchased when herb & pepper is bought in a transaction compared to random occurrence).\n",
    "\n",
    "Insight: Customers who buy herb & pepper are likely preparing meals that involve ground beef, indicating a culinary pairing. Marketing campaigns could promote ground beef as a complementary product when customers purchase herb & pepper.\n",
    "\n",
    "# 2.(Mineral Water, Spaghetti) → (Ground Beef):\n",
    "\n",
    "Support: 0.017 (1.7% of transactions)\n",
    "\n",
    "Confidence: 0.29 (28.6% chance that if mineral water and spaghetti are purchased together, ground beef will also be bought)\n",
    "\n",
    "Lift: 2.91\n",
    "\n",
    "Insight: This suggests that mineral water, spaghetti, and ground beef are frequently bought together, possibly for a pasta-related meal. Promotions or discounts on pasta ingredients when mineral water is purchased could encourage additional sales.\n",
    "\n",
    "# 3.(Tomatoes) → (Frozen Vegetables):\n",
    "\n",
    "Support: 0.016 (1.6% of transactions)\n",
    "\n",
    "Confidence: 0.24 (23.6% chance that if tomatoes are bought, frozen vegetables are also bought)\n",
    "\n",
    "Lift: 2.47\n",
    "\n",
    "Insight: Customers buying tomatoes often buy frozen vegetables as well. This could indicate a focus on health-conscious meal preparation. Supermarkets could place frozen vegetables near fresh produce to encourage this purchase combination.\n",
    "\n",
    "# 4.(Shrimp) → (Frozen Vegetables):\n",
    "\n",
    "Support: 0.017 (1.7% of transactions)\n",
    "\n",
    "Confidence: 0.23 (23.3% of shrimp-buying transactions also include frozen vegetables)\n",
    "\n",
    "Lift: 2.45\n",
    "\n",
    "Insight: Shrimp and frozen vegetables are frequently bought together, likely for convenient meal preparation. Bundling seafood with frozen vegetables could appeal to customers looking for quick, healthy meal options.\n",
    "\n",
    "# 5.(Mineral Water, Milk) → (Frozen Vegetables):\n",
    "\n",
    "Support: 0.011 (1.1% of transactions)\n",
    "\n",
    "Confidence: 0.23\n",
    "\n",
    "Lift: 2.42\n",
    "\n",
    "Insight: Milk, mineral water, and frozen vegetables may reflect a specific segment of customers who are health-focused or family-oriented. Placing these items in close proximity might increase cross-selling."
   ]
  },
  {
   "cell_type": "markdown",
   "id": "48d110ae-f10f-4210-a21b-e55f806869e0",
   "metadata": {},
   "source": [
    "# **Visualizing Association rules using a scatter plot**"
   ]
  },
  {
   "cell_type": "code",
   "execution_count": 17,
   "id": "e1b7e144-2958-4f62-8e2e-ba1cec8dce76",
   "metadata": {},
   "outputs": [
    {
     "data": {
      "image/png": "[encoded data removed]",
      "text/plain": [
       "<Figure size 1000x600 with 2 Axes>"
      ]
     },
     "metadata": {},
     "output_type": "display_data"
    }
   ],
   "source": [
    "import matplotlib.pyplot as plt\n",
    "\n",
    "# Assuming 'rules' is your DataFrame containing association rules\n",
    "plt.figure(figsize=(10, 6))\n",
    "plt.scatter(rules['support'], rules['confidence'], s=rules['lift']*100, alpha=0.5)\n",
    "plt.xlabel('Support',color='blue')\n",
    "plt.ylabel('Confidence',color='blue')\n",
    "plt.title('Association Rule Visualization',color='red')\n",
    "plt.colorbar(label='Lift')\n",
    "plt.grid(True)\n",
    "plt.show()"
   ]
  },
  {
   "cell_type": "markdown",
   "id": "87b2f764",
   "metadata": {},
   "source": [
    "# Interview Questions:"
   ]
  },
  {
   "cell_type": "markdown",
   "id": "a3ad058a",
   "metadata": {},
   "source": [
    "\n",
    "1.What is lift and why is it important in Association rules?\n",
    "\n",
    "Ans:Lift is a measure used in association rule mining to evaluate the strength of an association rule compared to the expected likelihood of the items being associated if they were independent. In simpler terms, lift tells you how much more likely the items in the rule are to occur together than would be expected by chance.\n",
    "\n",
    "2.What is support and Confidence. How do you calculate them?\n",
    "\n",
    "a.Support\n",
    "Support measures how frequently an itemset appears in the dataset. It helps to identify how common or rare an itemset is.\n",
    "Support of an itemset A is defined as the proportion of transactions in the dataset that contain the itemset A\n",
    "\n",
    "b.Confidence measures the likelihood that itemset \n",
    "B is purchased when itemset 𝐴 is purchased. It evaluates the reliability of the rule A→𝐵\n",
    "\n"
   ]
  },
  {
   "cell_type": "code",
   "execution_count": null,
   "id": "163ca95b",
   "metadata": {},
   "outputs": [],
   "source": []
  }
 ],
 "metadata": {
  "kernelspec": {
   "display_name": "Python 3 (ipykernel)",
   "language": "python",
   "name": "python3"
  },
  "language_info": {
   "codemirror_mode": {
    "name": "ipython",
    "version": 3
   },
   "file_extension": ".py",
   "mimetype": "text/x-python",
   "name": "python",
   "nbconvert_exporter": "python",
   "pygments_lexer": "ipython3",
   "version": "3.9.13"
  }
 },
 "nbformat": 4,
 "nbformat_minor": 5
}
