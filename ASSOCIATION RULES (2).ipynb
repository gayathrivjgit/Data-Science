{
 "cells": [
  {
   "cell_type": "markdown",
   "id": "ebb2e294-a3fa-4daa-84ff-d9ab77bac1b4",
   "metadata": {},
   "source": [
    "# **ASSOCIATION RULES**"
   ]
  },
  {
   "cell_type": "markdown",
   "id": "728cbdac-7447-4a28-a5b1-d8b1b50e9d68",
   "metadata": {},
   "source": [
    "# Dataset:"
   ]
  },
  {
   "cell_type": "code",
   "execution_count": 1,
   "id": "4be249b9-cff2-4630-b4df-b903931ed2dd",
   "metadata": {},
   "outputs": [],
   "source": [
    "import pandas as pd"
   ]
  },
  {
   "cell_type": "code",
   "execution_count": 2,
   "id": "3232d0a3-5c32-4c72-b017-833e269cb5d3",
   "metadata": {},
   "outputs": [],
   "source": [
    "df = pd.read_csv('Online retail.csv')  \n",
    "df.columns = ['Items']"
   ]
  },
  {
   "cell_type": "code",
   "execution_count": 3,
   "id": "9c72a94c-4fb0-477d-b9ed-e882489bd839",
   "metadata": {},
   "outputs": [
    {
     "data": {
      "text/html": [
       "<div>\n",
       "<style scoped>\n",
       "    .dataframe tbody tr th:only-of-type {\n",
       "        vertical-align: middle;\n",
       "    }\n",
       "\n",
       "    .dataframe tbody tr th {\n",
       "        vertical-align: top;\n",
       "    }\n",
       "\n",
       "    .dataframe thead th {\n",
       "        text-align: right;\n",
       "    }\n",
       "</style>\n",
       "<table border=\"1\" class=\"dataframe\">\n",
       "  <thead>\n",
       "    <tr style=\"text-align: right;\">\n",
       "      <th></th>\n",
       "      <th>Items</th>\n",
       "    </tr>\n",
       "  </thead>\n",
       "  <tbody>\n",
       "    <tr>\n",
       "      <th>0</th>\n",
       "      <td>burgers,meatballs,eggs</td>\n",
       "    </tr>\n",
       "    <tr>\n",
       "      <th>1</th>\n",
       "      <td>chutney</td>\n",
       "    </tr>\n",
       "    <tr>\n",
       "      <th>2</th>\n",
       "      <td>turkey,avocado</td>\n",
       "    </tr>\n",
       "    <tr>\n",
       "      <th>3</th>\n",
       "      <td>mineral water,milk,energy bar,whole wheat rice...</td>\n",
       "    </tr>\n",
       "    <tr>\n",
       "      <th>4</th>\n",
       "      <td>low fat yogurt</td>\n",
       "    </tr>\n",
       "  </tbody>\n",
       "</table>\n",
       "</div>"
      ],
      "text/plain": [
       "                                               Items\n",
       "0                             burgers,meatballs,eggs\n",
       "1                                            chutney\n",
       "2                                     turkey,avocado\n",
       "3  mineral water,milk,energy bar,whole wheat rice...\n",
       "4                                     low fat yogurt"
      ]
     },
     "execution_count": 3,
     "metadata": {},
     "output_type": "execute_result"
    }
   ],
   "source": [
    "df.head()"
   ]
  },
  {
   "cell_type": "markdown",
   "id": "5e8781b8-b151-43f4-a4ce-56f6e3d3d4f6",
   "metadata": {},
   "source": [
    "# Data Preprocessing:"
   ]
  },
  {
   "cell_type": "code",
   "execution_count": 4,
   "id": "fd151cc3-dff3-4692-9169-1a53a774608d",
   "metadata": {},
   "outputs": [
    {
     "name": "stdout",
     "output_type": "stream",
     "text": [
      "<class 'pandas.core.frame.DataFrame'>\n",
      "RangeIndex: 7500 entries, 0 to 7499\n",
      "Data columns (total 1 columns):\n",
      " #   Column  Non-Null Count  Dtype \n",
      "---  ------  --------------  ----- \n",
      " 0   Items   7500 non-null   object\n",
      "dtypes: object(1)\n",
      "memory usage: 58.7+ KB\n"
     ]
    }
   ],
   "source": [
    "df.info()"
   ]
  },
  {
   "cell_type": "code",
   "execution_count": 5,
   "id": "2b7dd87c-3246-4663-8b1d-227e04cb54b9",
   "metadata": {},
   "outputs": [
    {
     "data": {
      "text/plain": [
       "Items    0\n",
       "dtype: int64"
      ]
     },
     "execution_count": 5,
     "metadata": {},
     "output_type": "execute_result"
    }
   ],
   "source": [
    "df.isnull().sum()"
   ]
  },
  {
   "cell_type": "code",
   "execution_count": 6,
   "id": "10ce9bf4-2e9d-431c-8cf5-668385a0edd1",
   "metadata": {},
   "outputs": [
    {
     "data": {
      "text/plain": [
       "0                           [burgers, meatballs, eggs]\n",
       "1                                            [chutney]\n",
       "2                                    [turkey, avocado]\n",
       "3    [mineral water, milk, energy bar, whole wheat ...\n",
       "4                                     [low fat yogurt]\n",
       "Name: Items, dtype: object"
      ]
     },
     "execution_count": 6,
     "metadata": {},
     "output_type": "execute_result"
    }
   ],
   "source": [
    "# Convert the dataset into a list of transactions (splitting by comma)\n",
    "transactions = df.iloc[:, 0].apply(lambda x: x.split(','))\n",
    "\n",
    "# Display the first few transactions to verify the transformation\n",
    "transactions.head()\n"
   ]
  },
  {
   "cell_type": "markdown",
   "id": "1fd328ad-b0ec-4646-8b4d-7c6a111fa057",
   "metadata": {},
   "source": [
    "# Association Rule Mining:"
   ]
  },
  {
   "cell_type": "code",
   "execution_count": 7,
   "id": "82f8d49a-af8c-4365-8b8f-7a5cbc58eb4b",
   "metadata": {},
   "outputs": [
    {
     "name": "stdout",
     "output_type": "stream",
     "text": [
      "Requirement already satisfied: mlxtend in c:\\users\\dell\\anaconda3\\lib\\site-packages (0.23.2)\n",
      "Collecting mlxtend\n",
      "  Downloading mlxtend-0.23.3-py3-none-any.whl (1.4 MB)\n",
      "     ---------------------------------------- 1.4/1.4 MB 4.3 MB/s eta 0:00:00\n",
      "Requirement already satisfied: numpy>=1.16.2 in c:\\users\\dell\\anaconda3\\lib\\site-packages (from mlxtend) (1.24.4)\n",
      "Requirement already satisfied: joblib>=0.13.2 in c:\\users\\dell\\anaconda3\\lib\\site-packages (from mlxtend) (1.4.2)\n",
      "Requirement already satisfied: scipy>=1.2.1 in c:\\users\\dell\\anaconda3\\lib\\site-packages (from mlxtend) (1.9.1)\n",
      "Requirement already satisfied: matplotlib>=3.0.0 in c:\\users\\dell\\anaconda3\\lib\\site-packages (from mlxtend) (3.5.2)\n",
      "Requirement already satisfied: pandas>=0.24.2 in c:\\users\\dell\\anaconda3\\lib\\site-packages (from mlxtend) (1.4.4)\n",
      "Requirement already satisfied: scikit-learn>=1.3.1 in c:\\users\\dell\\anaconda3\\lib\\site-packages (from mlxtend) (1.5.2)\n",
      "Requirement already satisfied: pillow>=6.2.0 in c:\\users\\dell\\anaconda3\\lib\\site-packages (from matplotlib>=3.0.0->mlxtend) (9.2.0)\n",
      "Requirement already satisfied: fonttools>=4.22.0 in c:\\users\\dell\\anaconda3\\lib\\site-packages (from matplotlib>=3.0.0->mlxtend) (4.25.0)\n",
      "Requirement already satisfied: cycler>=0.10 in c:\\users\\dell\\anaconda3\\lib\\site-packages (from matplotlib>=3.0.0->mlxtend) (0.11.0)\n",
      "Requirement already satisfied: pyparsing>=2.2.1 in c:\\users\\dell\\anaconda3\\lib\\site-packages (from matplotlib>=3.0.0->mlxtend) (3.0.9)\n",
      "Requirement already satisfied: packaging>=20.0 in c:\\users\\dell\\anaconda3\\lib\\site-packages (from matplotlib>=3.0.0->mlxtend) (21.3)\n",
      "Requirement already satisfied: kiwisolver>=1.0.1 in c:\\users\\dell\\anaconda3\\lib\\site-packages (from matplotlib>=3.0.0->mlxtend) (1.4.2)\n",
      "Requirement already satisfied: python-dateutil>=2.7 in c:\\users\\dell\\anaconda3\\lib\\site-packages (from matplotlib>=3.0.0->mlxtend) (2.8.2)\n",
      "Requirement already satisfied: pytz>=2020.1 in c:\\users\\dell\\anaconda3\\lib\\site-packages (from pandas>=0.24.2->mlxtend) (2022.1)\n",
      "Requirement already satisfied: threadpoolctl>=3.1.0 in c:\\users\\dell\\anaconda3\\lib\\site-packages (from scikit-learn>=1.3.1->mlxtend) (3.5.0)\n",
      "Requirement already satisfied: six>=1.5 in c:\\users\\dell\\anaconda3\\lib\\site-packages (from python-dateutil>=2.7->matplotlib>=3.0.0->mlxtend) (1.16.0)\n",
      "Installing collected packages: mlxtend\n",
      "  Attempting uninstall: mlxtend\n",
      "    Found existing installation: mlxtend 0.23.2\n",
      "    Uninstalling mlxtend-0.23.2:\n",
      "      Successfully uninstalled mlxtend-0.23.2\n",
      "Successfully installed mlxtend-0.23.3\n"
     ]
    }
   ],
   "source": [
    "!pip install -U mlxtend"
   ]
  },
  {
   "cell_type": "code",
   "execution_count": 8,
   "id": "5bd65ff4-8922-47d2-8f60-c50b52fbbe57",
   "metadata": {},
   "outputs": [],
   "source": [
    "from mlxtend.frequent_patterns import apriori, association_rules\n",
    "from mlxtend.preprocessing import TransactionEncoder"
   ]
  },
  {
   "cell_type": "code",
   "execution_count": 9,
   "id": "e0713410-7a79-48fe-83b9-b613f6148b16",
   "metadata": {},
   "outputs": [],
   "source": [
    "# Convert transactions into a one-hot encoded DataFrame\n",
    "te = TransactionEncoder()\n",
    "te_ary = te.fit(transactions).transform(transactions)\n",
    "df_encoded = pd.DataFrame(te_ary, columns=te.columns_)"
   ]
  },
  {
   "cell_type": "code",
   "execution_count": 10,
   "id": "fcde8766-bd0a-4e38-91cb-f0bd338b5eb5",
   "metadata": {},
   "outputs": [],
   "source": [
    "# Set minimum support threshold (e.g., 0.01 for 1%)\n",
    "min_support = 0.01"
   ]
  },
  {
   "cell_type": "code",
   "execution_count": 11,
   "id": "335ecc06-bdd2-41b3-a2ed-5f1208f56259",
   "metadata": {},
   "outputs": [],
   "source": [
    "# Generate frequent itemsets with minimum support\n",
    "frequent_itemsets = apriori(df_encoded, min_support=min_support, use_colnames=True)"
   ]
  },
  {
   "cell_type": "code",
   "execution_count": 12,
   "id": "226f39fb-d19f-478c-8b3a-e4b8b54b48c0",
   "metadata": {},
   "outputs": [
    {
     "data": {
      "text/html": [
       "<div>\n",
       "<style scoped>\n",
       "    .dataframe tbody tr th:only-of-type {\n",
       "        vertical-align: middle;\n",
       "    }\n",
       "\n",
       "    .dataframe tbody tr th {\n",
       "        vertical-align: top;\n",
       "    }\n",
       "\n",
       "    .dataframe thead th {\n",
       "        text-align: right;\n",
       "    }\n",
       "</style>\n",
       "<table border=\"1\" class=\"dataframe\">\n",
       "  <thead>\n",
       "    <tr style=\"text-align: right;\">\n",
       "      <th></th>\n",
       "      <th>support</th>\n",
       "      <th>itemsets</th>\n",
       "    </tr>\n",
       "  </thead>\n",
       "  <tbody>\n",
       "    <tr>\n",
       "      <th>0</th>\n",
       "      <td>0.020267</td>\n",
       "      <td>(almonds)</td>\n",
       "    </tr>\n",
       "    <tr>\n",
       "      <th>1</th>\n",
       "      <td>0.033200</td>\n",
       "      <td>(avocado)</td>\n",
       "    </tr>\n",
       "    <tr>\n",
       "      <th>2</th>\n",
       "      <td>0.010800</td>\n",
       "      <td>(barbecue sauce)</td>\n",
       "    </tr>\n",
       "    <tr>\n",
       "      <th>3</th>\n",
       "      <td>0.014267</td>\n",
       "      <td>(black tea)</td>\n",
       "    </tr>\n",
       "    <tr>\n",
       "      <th>4</th>\n",
       "      <td>0.011467</td>\n",
       "      <td>(body spray)</td>\n",
       "    </tr>\n",
       "  </tbody>\n",
       "</table>\n",
       "</div>"
      ],
      "text/plain": [
       "    support          itemsets\n",
       "0  0.020267         (almonds)\n",
       "1  0.033200         (avocado)\n",
       "2  0.010800  (barbecue sauce)\n",
       "3  0.014267       (black tea)\n",
       "4  0.011467      (body spray)"
      ]
     },
     "execution_count": 12,
     "metadata": {},
     "output_type": "execute_result"
    }
   ],
   "source": [
    "frequent_itemsets.head()"
   ]
  },
  {
   "cell_type": "code",
   "execution_count": 13,
   "id": "1b46b950-8b83-41a5-970e-02c7bf59ac49",
   "metadata": {},
   "outputs": [],
   "source": [
    "min_confidence = 0.2\n",
    "min_lift = 1.2"
   ]
  },
  {
   "cell_type": "code",
   "execution_count": 14,
   "id": "df3ea457-a440-478f-8f6a-1e1f8d420769",
   "metadata": {},
   "outputs": [],
   "source": [
    "rules = association_rules(frequent_itemsets, metric=\"confidence\", min_threshold=min_confidence,num_itemsets=len(frequent_itemsets))\n"
   ]
  },
  {
   "cell_type": "code",
   "execution_count": 15,
   "id": "0c90df28-afb8-44ba-8c1d-6410780e65cf",
   "metadata": {},
   "outputs": [
    {
     "data": {
      "text/html": [
       "<div>\n",
       "<style scoped>\n",
       "    .dataframe tbody tr th:only-of-type {\n",
       "        vertical-align: middle;\n",
       "    }\n",
       "\n",
       "    .dataframe tbody tr th {\n",
       "        vertical-align: top;\n",
       "    }\n",
       "\n",
       "    .dataframe thead th {\n",
       "        text-align: right;\n",
       "    }\n",
       "</style>\n",
       "<table border=\"1\" class=\"dataframe\">\n",
       "  <thead>\n",
       "    <tr style=\"text-align: right;\">\n",
       "      <th></th>\n",
       "      <th>antecedents</th>\n",
       "      <th>consequents</th>\n",
       "      <th>support</th>\n",
       "      <th>confidence</th>\n",
       "      <th>lift</th>\n",
       "    </tr>\n",
       "  </thead>\n",
       "  <tbody>\n",
       "    <tr>\n",
       "      <th>0</th>\n",
       "      <td>(avocado)</td>\n",
       "      <td>(mineral water)</td>\n",
       "      <td>0.011467</td>\n",
       "      <td>0.345382</td>\n",
       "      <td>1.449559</td>\n",
       "    </tr>\n",
       "    <tr>\n",
       "      <th>1</th>\n",
       "      <td>(burgers)</td>\n",
       "      <td>(eggs)</td>\n",
       "      <td>0.028800</td>\n",
       "      <td>0.330275</td>\n",
       "      <td>1.837585</td>\n",
       "    </tr>\n",
       "    <tr>\n",
       "      <th>2</th>\n",
       "      <td>(burgers)</td>\n",
       "      <td>(french fries)</td>\n",
       "      <td>0.022000</td>\n",
       "      <td>0.252294</td>\n",
       "      <td>1.475976</td>\n",
       "    </tr>\n",
       "    <tr>\n",
       "      <th>3</th>\n",
       "      <td>(burgers)</td>\n",
       "      <td>(green tea)</td>\n",
       "      <td>0.017467</td>\n",
       "      <td>0.200306</td>\n",
       "      <td>1.517468</td>\n",
       "    </tr>\n",
       "    <tr>\n",
       "      <th>4</th>\n",
       "      <td>(burgers)</td>\n",
       "      <td>(milk)</td>\n",
       "      <td>0.017867</td>\n",
       "      <td>0.204893</td>\n",
       "      <td>1.580964</td>\n",
       "    </tr>\n",
       "  </tbody>\n",
       "</table>\n",
       "</div>"
      ],
      "text/plain": [
       "  antecedents      consequents   support  confidence      lift\n",
       "0   (avocado)  (mineral water)  0.011467    0.345382  1.449559\n",
       "1   (burgers)           (eggs)  0.028800    0.330275  1.837585\n",
       "2   (burgers)   (french fries)  0.022000    0.252294  1.475976\n",
       "3   (burgers)      (green tea)  0.017467    0.200306  1.517468\n",
       "4   (burgers)           (milk)  0.017867    0.204893  1.580964"
      ]
     },
     "execution_count": 15,
     "metadata": {},
     "output_type": "execute_result"
    }
   ],
   "source": [
    "rules = rules[rules['lift'] >= min_lift]\n",
    "\n",
    "# Display the generated rules\n",
    "rules[['antecedents', 'consequents', 'support', 'confidence', 'lift']].head()"
   ]
  },
  {
   "cell_type": "markdown",
   "id": "6f8b95f8-af30-4fe4-803d-e8dcaf114936",
   "metadata": {},
   "source": [
    "# Analysis and Interpretation:"
   ]
  },
  {
   "cell_type": "code",
   "execution_count": 16,
   "id": "eb633cb2-07be-4edd-91c8-1b0370ae10e8",
   "metadata": {},
   "outputs": [
    {
     "data": {
      "text/html": [
       "<div>\n",
       "<style scoped>\n",
       "    .dataframe tbody tr th:only-of-type {\n",
       "        vertical-align: middle;\n",
       "    }\n",
       "\n",
       "    .dataframe tbody tr th {\n",
       "        vertical-align: top;\n",
       "    }\n",
       "\n",
       "    .dataframe thead th {\n",
       "        text-align: right;\n",
       "    }\n",
       "</style>\n",
       "<table border=\"1\" class=\"dataframe\">\n",
       "  <thead>\n",
       "    <tr style=\"text-align: right;\">\n",
       "      <th></th>\n",
       "      <th>antecedents</th>\n",
       "      <th>consequents</th>\n",
       "      <th>support</th>\n",
       "      <th>confidence</th>\n",
       "      <th>lift</th>\n",
       "    </tr>\n",
       "  </thead>\n",
       "  <tbody>\n",
       "    <tr>\n",
       "      <th>75</th>\n",
       "      <td>(herb &amp; pepper)</td>\n",
       "      <td>(ground beef)</td>\n",
       "      <td>0.016000</td>\n",
       "      <td>0.323450</td>\n",
       "      <td>3.291555</td>\n",
       "    </tr>\n",
       "    <tr>\n",
       "      <th>154</th>\n",
       "      <td>(mineral water, spaghetti)</td>\n",
       "      <td>(ground beef)</td>\n",
       "      <td>0.017067</td>\n",
       "      <td>0.285714</td>\n",
       "      <td>2.907540</td>\n",
       "    </tr>\n",
       "    <tr>\n",
       "      <th>69</th>\n",
       "      <td>(tomatoes)</td>\n",
       "      <td>(frozen vegetables)</td>\n",
       "      <td>0.016133</td>\n",
       "      <td>0.235867</td>\n",
       "      <td>2.474134</td>\n",
       "    </tr>\n",
       "    <tr>\n",
       "      <th>67</th>\n",
       "      <td>(shrimp)</td>\n",
       "      <td>(frozen vegetables)</td>\n",
       "      <td>0.016667</td>\n",
       "      <td>0.233645</td>\n",
       "      <td>2.450820</td>\n",
       "    </tr>\n",
       "    <tr>\n",
       "      <th>145</th>\n",
       "      <td>(mineral water, milk)</td>\n",
       "      <td>(frozen vegetables)</td>\n",
       "      <td>0.011067</td>\n",
       "      <td>0.230556</td>\n",
       "      <td>2.418415</td>\n",
       "    </tr>\n",
       "  </tbody>\n",
       "</table>\n",
       "</div>"
      ],
      "text/plain": [
       "                    antecedents          consequents   support  confidence  \\\n",
       "75              (herb & pepper)        (ground beef)  0.016000    0.323450   \n",
       "154  (mineral water, spaghetti)        (ground beef)  0.017067    0.285714   \n",
       "69                   (tomatoes)  (frozen vegetables)  0.016133    0.235867   \n",
       "67                     (shrimp)  (frozen vegetables)  0.016667    0.233645   \n",
       "145       (mineral water, milk)  (frozen vegetables)  0.011067    0.230556   \n",
       "\n",
       "         lift  \n",
       "75   3.291555  \n",
       "154  2.907540  \n",
       "69   2.474134  \n",
       "67   2.450820  \n",
       "145  2.418415  "
      ]
     },
     "execution_count": 16,
     "metadata": {},
     "output_type": "execute_result"
    }
   ],
   "source": [
    "# Sort rules by lift in descending order\n",
    "sorted_rules = rules.sort_values(by='lift', ascending=False)\n",
    "sorted_rules[['antecedents', 'consequents', 'support', 'confidence', 'lift']].head()"
   ]
  },
  {
   "cell_type": "markdown",
   "id": "17f3452c-79bb-47c7-9015-c225997cf3b6",
   "metadata": {},
   "source": [
    "Looking at the top 5 association rules sorted by lift, here are some interesting patterns and relationships :\n",
    "\n",
    "# 1.(Herb & Pepper) → (Ground Beef):\n",
    "\n",
    "Support: 0.016 (1.6% of transactions)\n",
    "\n",
    "Confidence: 0.32 (32.3% of transactions that include herb & pepper also include ground beef)\n",
    "\n",
    "Lift: 3.29 (This rule suggests that ground beef is 3.29 times more likely to be purchased when herb & pepper is bought in a transaction compared to random occurrence).\n",
    "\n",
    "Insight: Customers who buy herb & pepper are likely preparing meals that involve ground beef, indicating a culinary pairing. Marketing campaigns could promote ground beef as a complementary product when customers purchase herb & pepper.\n",
    "\n",
    "# 2.(Mineral Water, Spaghetti) → (Ground Beef):\n",
    "\n",
    "Support: 0.017 (1.7% of transactions)\n",
    "\n",
    "Confidence: 0.29 (28.6% chance that if mineral water and spaghetti are purchased together, ground beef will also be bought)\n",
    "\n",
    "Lift: 2.91\n",
    "\n",
    "Insight: This suggests that mineral water, spaghetti, and ground beef are frequently bought together, possibly for a pasta-related meal. Promotions or discounts on pasta ingredients when mineral water is purchased could encourage additional sales.\n",
    "\n",
    "# 3.(Tomatoes) → (Frozen Vegetables):\n",
    "\n",
    "Support: 0.016 (1.6% of transactions)\n",
    "\n",
    "Confidence: 0.24 (23.6% chance that if tomatoes are bought, frozen vegetables are also bought)\n",
    "\n",
    "Lift: 2.47\n",
    "\n",
    "Insight: Customers buying tomatoes often buy frozen vegetables as well. This could indicate a focus on health-conscious meal preparation. Supermarkets could place frozen vegetables near fresh produce to encourage this purchase combination.\n",
    "\n",
    "# 4.(Shrimp) → (Frozen Vegetables):\n",
    "\n",
    "Support: 0.017 (1.7% of transactions)\n",
    "\n",
    "Confidence: 0.23 (23.3% of shrimp-buying transactions also include frozen vegetables)\n",
    "\n",
    "Lift: 2.45\n",
    "\n",
    "Insight: Shrimp and frozen vegetables are frequently bought together, likely for convenient meal preparation. Bundling seafood with frozen vegetables could appeal to customers looking for quick, healthy meal options.\n",
    "\n",
    "# 5.(Mineral Water, Milk) → (Frozen Vegetables):\n",
    "\n",
    "Support: 0.011 (1.1% of transactions)\n",
    "\n",
    "Confidence: 0.23\n",
    "\n",
    "Lift: 2.42\n",
    "\n",
    "Insight: Milk, mineral water, and frozen vegetables may reflect a specific segment of customers who are health-focused or family-oriented. Placing these items in close proximity might increase cross-selling."
   ]
  },
  {
   "cell_type": "markdown",
   "id": "48d110ae-f10f-4210-a21b-e55f806869e0",
   "metadata": {},
   "source": [
    "# Visualizing Association rules using a scatter plot:"
   ]
  },
  {
   "cell_type": "code",
   "execution_count": 17,
   "id": "e1b7e144-2958-4f62-8e2e-ba1cec8dce76",
   "metadata": {},
   "outputs": [
    {
     "data": {
      "image/png": "[encoded data removed]",
      "text/plain": [
       "<Figure size 1000x600 with 2 Axes>"
      ]
     },
     "metadata": {},
     "output_type": "display_data"
    }
   ],
   "source": [
    "import matplotlib.pyplot as plt\n",
    "\n",
    "# Assuming 'rules' is your DataFrame containing association rules\n",
    "plt.figure(figsize=(10, 6))\n",
    "plt.scatter(rules['support'], rules['confidence'], s=rules['lift']*100, alpha=0.5)\n",
    "plt.xlabel('Support',color='blue')\n",
    "plt.ylabel('Confidence',color='blue')\n",
    "plt.title('Association Rule Visualization',color='red')\n",
    "plt.colorbar(label='Lift')\n",
    "plt.grid(True)\n",
    "plt.show()"
   ]
  },
  {
   "cell_type": "markdown",
   "id": "d1e8be3e-5c6f-41a9-b08c-60b2d57e76cd",
   "metadata": {},
   "source": [
    "# **INTERVIEW QUESTIONS**"
   ]
  },
  {
   "cell_type": "markdown",
   "id": "117f355b-2abc-4624-923e-a3d2979c60f9",
   "metadata": {},
   "source": [
    "1.What is lift and why is it important in Association rules?"
   ]
  },
  {
   "cell_type": "markdown",
   "id": "3c156590-9965-4ba0-ae27-939913a74ada",
   "metadata": {},
   "source": [
    "In association rule mining, lift is a metric used to evaluate the strength of an association rule by measuring how much more likely two items are to be purchased together compared to their independent occurrences.\n",
    "\n",
    "Definition of Lift\n",
    "For a rule \n",
    "𝑋\n",
    "⇒\n",
    "𝑌:\n",
    "\n",
    "\n",
    "Lift is calculated as:\n",
    "\n",
    "\n",
    "Lift(X⇒Y)= \n",
    "Support(X ∪ Y) / Support(X)×Support(Y) \n",
    "\n",
    "​\n",
    "\n",
    "#Importance of Lift in Association Rules:\n",
    "\n",
    "Lift is important because it helps determine the relevance and usefulness of a rule by:\n",
    "\n",
    "Providing Contextual Insights: Lift considers the baseline probability of items, allowing for a more accurate measure of association than confidence alone.\n",
    "\n",
    "Identifying Meaningful Patterns: High-lift rules identify combinations that occur significantly more frequently together than expected by chance, revealing strong dependencies or relationships that may be actionable.\n",
    "\n",
    "\n"
   ]
  },
  {
   "cell_type": "markdown",
   "id": "aba6ceae-1c7a-450e-a4a4-6748cbb0a3a1",
   "metadata": {},
   "source": [
    "2.\tWhat is support and Confidence. How do you calculate them?"
   ]
  },
  {
   "cell_type": "markdown",
   "id": "f162317f-8953-4049-a9a0-67e82e6f73bb",
   "metadata": {},
   "source": [
    "In association rule mining, support and confidence are key metrics that help evaluate the frequency and reliability of an association rule.\n",
    "\n",
    "#Support\n",
    "\n",
    "Support measures the frequency of a particular itemset (or combination of items) appearing in the dataset. It helps identify how commonly items or itemsets occur together.\n",
    "\n",
    "For a rule \n",
    "X⇒Y:\n",
    "\n",
    "Support of the rule is the proportion of transactions in the dataset that contain both \n",
    "X and Y.\n",
    "\n",
    "Formula:\n",
    "\n",
    "Support\n",
    "(\n",
    "𝑋\n",
    "⇒\n",
    "𝑌\n",
    ")=\n",
    "Number of transactions containing \n",
    "𝑋\n",
    " and \n",
    "𝑌\n",
    "/ Total number of transactions\n",
    "\n",
    "\n",
    "\n",
    " #Confidence\n",
    " \n",
    "Confidence measures the likelihood of item Y being present in a transaction given that item X is already present. It reflects the reliability of the association rule.\n",
    "\n",
    "For a rule \n",
    "X⇒Y:\n",
    "\n",
    "Confidence of the rule is the ratio of transactions containing both X and Y to the number of transactions that contain X alone.\n",
    "\n",
    "Formula:\n",
    "\n",
    "Confidence\n",
    "(\n",
    "𝑋\n",
    "⇒\n",
    "𝑌\n",
    ")= Number of transactions containing 𝑋 and 𝑌 / Number of transactions containing 𝑋\n",
    "\n",
    " \n",
    "\n"
   ]
  },
  {
   "cell_type": "markdown",
   "id": "b17851dc-f9e0-4316-9fb7-8cf78bcf9bd2",
   "metadata": {},
   "source": [
    "3.\tWhat are some limitations or challenges of Association rules mining?"
   ]
  },
  {
   "cell_type": "markdown",
   "id": "28260b14-9894-4ae1-9eca-dd413363b220",
   "metadata": {},
   "source": [
    "The main limitations and challenges of association rule mining:\n",
    "\n",
    "Computational Complexity: High memory and processing demands due to exponential item combinations.\n",
    "\n",
    "Threshold Setting: Difficult to find appropriate support and confidence levels, risking missing key rules or producing too many.\n",
    "\n",
    "Excessive Rules: Large numbers of often redundant or irrelevant rules make analysis overwhelming.\n",
    "\n",
    "Redundancy: Many rules may overlap or repeat information, requiring filtering.\n",
    "\n",
    "Lack of Temporal Analysis: Does not consider item order, missing sequential patterns."
   ]
  },
  {
   "cell_type": "code",
   "execution_count": null,
   "id": "96fdcf5b-d092-4660-bb7d-c16f83760479",
   "metadata": {},
   "outputs": [],
   "source": []
  }
 ],
 "metadata": {
  "kernelspec": {
   "display_name": "Python 3 (ipykernel)",
   "language": "python",
   "name": "python3"
  },
  "language_info": {
   "codemirror_mode": {
    "name": "ipython",
    "version": 3
   },
   "file_extension": ".py",
   "mimetype": "text/x-python",
   "name": "python",
   "nbconvert_exporter": "python",
   "pygments_lexer": "ipython3",
   "version": "3.9.13"
  }
 },
 "nbformat": 4,
 "nbformat_minor": 5
}
