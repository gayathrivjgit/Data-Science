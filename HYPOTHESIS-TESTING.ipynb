{
 "cells": [
  {
   "cell_type": "markdown",
   "id": "908f2727-6a45-4f5b-b0f1-c9c24b20b83d",
   "metadata": {},
   "source": [
    "# **Z_test**"
   ]
  },
  {
   "cell_type": "markdown",
   "id": "2710bb4c-a835-4833-911e-a10e369520d0",
   "metadata": {},
   "source": [
    "#Scenario :\n",
    "Bombay hospitality Ltd. operates a franchise model for producing exotic Norwegian dinners throughout New England. The operating cost for a franchise in a week (W) is given by the equation W = $1,000 + $5X, where X represents the number of units produced in a week. Recent feedback from restaurant owners suggests that this cost model may no longer be accurate, as their observed weekly operating costs are higher.\n",
    "\n",
    "Objective:\n",
    "To investigate the restaurant owners' claim about the increase in weekly operating costs using hypothesis testing.\n",
    "\n",
    "Data Provided:\n",
    "•\tThe theoretical weekly operating cost model: W = $1,000 + $5X\n",
    "•\tSample of 25 restaurants with a mean weekly cost of Rs. 3,050\n",
    "•\tNumber of units produced in a week (X) follows a normal distribution with a mean (μ) of 600 units and a standard deviation (σ) of 25 units"
   ]
  },
  {
   "cell_type": "markdown",
   "id": "5342755d-19ed-4996-af53-70b687ab59c5",
   "metadata": {},
   "source": [
    "# Task 1: State the Hypothesis Statement"
   ]
  },
  {
   "cell_type": "code",
   "execution_count": 1,
   "id": "a0b63550-2f7b-486a-8624-12fa1e093678",
   "metadata": {},
   "outputs": [],
   "source": [
    "##hypothesis statement\n",
    "##theoretical model for weekly operating cost: W=1000+5X\n",
    "##null hypothesis:the actual weekly operating cost is equal or less than theoretical model\n",
    "              ##h0: actual mean weekly operating cost less than theoretical model operating cost\n",
    "              ##h0: actual mean operating cost<=1000+5X\n",
    "##alternate hypothesis:the actual weekly opaerating cost is highere than theoretical model\n",
    "             ##h1: actual mean operating cost>1000+5X\n",
    "             "
   ]
  },
  {
   "cell_type": "code",
   "execution_count": 2,
   "id": "bb900d4f-baf3-407e-a7ac-08364ca4c7b5",
   "metadata": {},
   "outputs": [],
   "source": [
    "import numpy as np\n",
    "import scipy.stats as stats"
   ]
  },
  {
   "cell_type": "markdown",
   "id": "fbf0a427-5ea2-42ef-b0e0-04ba5d916756",
   "metadata": {},
   "source": [
    "##h0: actual mean operating cost<=1000+5X\n",
    "##h1: actual mean operating cost>1000+5X"
   ]
  },
  {
   "cell_type": "markdown",
   "id": "86e23dbd-dd4b-4f82-b729-fa989f01f841",
   "metadata": {},
   "source": [
    "# Task 2: Calculate test statistic"
   ]
  },
  {
   "cell_type": "code",
   "execution_count": 3,
   "id": "0843e9e5-a325-4a8e-bcf0-006815580af7",
   "metadata": {},
   "outputs": [],
   "source": [
    "##now we are going to calculate TEST STATISTIC T\n"
   ]
  },
  {
   "cell_type": "code",
   "execution_count": 4,
   "id": "903b0f16-26ca-4f6d-b3b3-b28b8b6f4a7b",
   "metadata": {},
   "outputs": [],
   "source": [
    "x_bar=3050 ##sample mean weekly cost\n",
    "##theoretical_mean = 1000+5*600=4000\n",
    "theoretical_mean=4000\n",
    "n=25 ##sample size\n",
    "std_dev_units=25 ##standard deviation of units produced\n",
    "std_dev_cost= 5*25 ## cost per unit* std_dev_units = stanfdard deviation of weekly operating cost\n"
   ]
  },
  {
   "cell_type": "code",
   "execution_count": 5,
   "id": "441bc4c0-9f40-4560-8874-5418e3df75a1",
   "metadata": {},
   "outputs": [
    {
     "data": {
      "text/plain": [
       "-38.0"
      ]
     },
     "execution_count": 5,
     "metadata": {},
     "output_type": "execute_result"
    }
   ],
   "source": [
    "t_stats=(x_bar - theoretical_mean)/(std_dev_cost/np.sqrt(n)) \n",
    "t_stats"
   ]
  },
  {
   "cell_type": "markdown",
   "id": "4c879674-1355-4c1a-bddb-04019b4cb1b0",
   "metadata": {},
   "source": [
    "# Task 3 : Determine Critical Value"
   ]
  },
  {
   "cell_type": "code",
   "execution_count": 6,
   "id": "2e092116-25ca-484e-8e13-5ac832a185d6",
   "metadata": {},
   "outputs": [],
   "source": [
    "##here we are doing a one_tailores z test\n",
    "##now we are going to find critical value\n",
    "##we give alpha=0.05"
   ]
  },
  {
   "cell_type": "code",
   "execution_count": 7,
   "id": "fe8bb790-2e85-4569-9aa7-4947e9e94fa9",
   "metadata": {},
   "outputs": [
    {
     "data": {
      "text/plain": [
       "1.6448536269514722"
      ]
     },
     "execution_count": 7,
     "metadata": {},
     "output_type": "execute_result"
    }
   ],
   "source": [
    "alpha=0.05\n",
    "\n",
    "critical_value=stats.norm.ppf(1-alpha)\n",
    "critical_value"
   ]
  },
  {
   "cell_type": "markdown",
   "id": "f3dd6752-25ed-4c15-946e-9ff29b4f7eff",
   "metadata": {},
   "source": [
    "# Task 4: Make a decision"
   ]
  },
  {
   "cell_type": "code",
   "execution_count": 8,
   "id": "c3df33d8-bc96-4ac7-8a4c-d995ac67a8af",
   "metadata": {},
   "outputs": [
    {
     "name": "stdout",
     "output_type": "stream",
     "text": [
      "t stats- -38.0\n",
      "critical value- 1.6448536269514722\n"
     ]
    }
   ],
   "source": [
    "print(f\"t stats- {t_stats}\" )\n",
    "print(f\"critical value- {critical_value}\")"
   ]
  },
  {
   "cell_type": "code",
   "execution_count": 9,
   "id": "07c7ead4-a3e3-46bb-8559-5214cd2a9f0d",
   "metadata": {},
   "outputs": [],
   "source": [
    "##here t stats is less than critical value\n",
    "## so we fail to reject null hypothesis\n",
    "##h0: actual mean weekly operating cost less than theoretical model operating cost\n"
   ]
  },
  {
   "cell_type": "markdown",
   "id": "ff77cd79-7445-493f-8d0f-ab00c4e7d535",
   "metadata": {},
   "source": [
    "# 5. Conclusion"
   ]
  },
  {
   "cell_type": "markdown",
   "id": "9477e63c-ff24-480c-bcf4-7cd8147a40e9",
   "metadata": {},
   "source": [
    "\n",
    "#Based on the decision, there is strong evidence to support\n",
    "the restaurant owners' claim that the weekly operating costs\n",
    "are higher than the model suggests.\n"
   ]
  },
  {
   "cell_type": "markdown",
   "id": "970b3123-592d-489c-943a-bb037eae645e",
   "metadata": {},
   "source": [
    "# **Chisquare Test**"
   ]
  },
  {
   "cell_type": "markdown",
   "id": "881657d8-2d45-429f-b4e2-96abd46440a4",
   "metadata": {},
   "source": [
    "\n",
    "\n",
    "```\n",
    "# Scenario:\n",
    "Mizzare Corporation has collected data on customer\n",
    "satisfaction levels for two types of smart home devices:\n",
    "Smart Thermostats and Smart Lights. They want to determine\n",
    "if there's a significant association between the type of\n",
    "device purchased and the customer's satisfaction level.\n",
    "```\n",
    "\n",
    "\n",
    "\n",
    "```\n",
    "# Objective:\n",
    "\n",
    "To use the Chi-Square test for independence to determine if\n",
    "there's a significant association between the type of smart\n",
    "home device purchased (Smart Thermostats vs. Smart Lights)\n",
    "and the customer satisfaction level.\n",
    "```\n",
    "\n"
   ]
  },
  {
   "cell_type": "code",
   "execution_count": 10,
   "id": "98f2669d-0de4-4d82-9031-275c7edae855",
   "metadata": {},
   "outputs": [],
   "source": [
    "import numpy as np\n",
    "from scipy.stats import chi2"
   ]
  },
  {
   "cell_type": "markdown",
   "id": "27cdd85b-b397-404f-860d-39eac6d693c4",
   "metadata": {},
   "source": [
    "# 1.State the Hypotheses"
   ]
  },
  {
   "cell_type": "code",
   "execution_count": 11,
   "id": "2c6001d1-27e5-4e68-8ec4-fac5603a0283",
   "metadata": {},
   "outputs": [],
   "source": [
    "#Stating the Hypotheses:\n",
    "#H0:- There is no association between the type of device purchased and customer satisfaction.\n",
    "#H1:- There is an association between the type of device purchased and customer satisfaction.\n",
    "H0=\"There is no association between the type of device purchased and customer satisfaction.\"\n",
    "H1=\"There is an association between the type of device purchased and customer satisfaction.\""
   ]
  },
  {
   "cell_type": "code",
   "execution_count": 12,
   "id": "997010b1-dad9-4575-b7b7-df9fef1bf4b6",
   "metadata": {},
   "outputs": [
    {
     "data": {
      "text/plain": [
       "array([[ 50,  70],\n",
       "       [ 80, 100],\n",
       "       [ 60,  90],\n",
       "       [ 30,  50],\n",
       "       [ 20,  50]])"
      ]
     },
     "execution_count": 12,
     "metadata": {},
     "output_type": "execute_result"
    }
   ],
   "source": [
    "# observed values\n",
    "observed = np.array([[50, 70], \n",
    "                     [80, 100], \n",
    "                     [60, 90], \n",
    "                     [30, 50], \n",
    "                     [20, 50]])\n",
    "observed"
   ]
  },
  {
   "cell_type": "code",
   "execution_count": 13,
   "id": "8b0436d6-40d3-4ca7-9ff3-32fe772cae8f",
   "metadata": {},
   "outputs": [],
   "source": [
    "# expected values calculation\n",
    "row_totals=observed.sum(axis=1)\n",
    "col_totals=observed.sum(axis=0)\n",
    "total=observed.sum()"
   ]
  },
  {
   "cell_type": "code",
   "execution_count": 14,
   "id": "09e21ff5-282a-4181-8ad6-16d39f0a5d9b",
   "metadata": {},
   "outputs": [
    {
     "data": {
      "text/plain": [
       "array([120, 180, 150,  80,  70])"
      ]
     },
     "execution_count": 14,
     "metadata": {},
     "output_type": "execute_result"
    }
   ],
   "source": [
    "row_totals"
   ]
  },
  {
   "cell_type": "code",
   "execution_count": 15,
   "id": "f432b8ce-960c-41f4-9a91-8e2f6b712fd3",
   "metadata": {},
   "outputs": [
    {
     "data": {
      "text/plain": [
       "array([240, 360])"
      ]
     },
     "execution_count": 15,
     "metadata": {},
     "output_type": "execute_result"
    }
   ],
   "source": [
    "col_totals"
   ]
  },
  {
   "cell_type": "code",
   "execution_count": 16,
   "id": "b0a8ccda-ff88-4b09-8cf8-08f04b7ac471",
   "metadata": {},
   "outputs": [
    {
     "data": {
      "text/plain": [
       "600"
      ]
     },
     "execution_count": 16,
     "metadata": {},
     "output_type": "execute_result"
    }
   ],
   "source": [
    "total"
   ]
  },
  {
   "cell_type": "code",
   "execution_count": 17,
   "id": "66bb4ed0-d304-4cca-9c51-d933de708340",
   "metadata": {},
   "outputs": [
    {
     "data": {
      "text/plain": [
       "array([[ 48.,  72.],\n",
       "       [ 72., 108.],\n",
       "       [ 60.,  90.],\n",
       "       [ 32.,  48.],\n",
       "       [ 28.,  42.]])"
      ]
     },
     "execution_count": 17,
     "metadata": {},
     "output_type": "execute_result"
    }
   ],
   "source": [
    "expected = np.outer(row_totals, col_totals) / total\n",
    "expected"
   ]
  },
  {
   "cell_type": "code",
   "execution_count": 18,
   "id": "1ce7f293-bbb3-4c3c-b122-2e722b6c5538",
   "metadata": {},
   "outputs": [
    {
     "data": {
      "text/plain": [
       "array([[ 50,  70],\n",
       "       [ 80, 100],\n",
       "       [ 60,  90],\n",
       "       [ 30,  50],\n",
       "       [ 20,  50]])"
      ]
     },
     "execution_count": 18,
     "metadata": {},
     "output_type": "execute_result"
    }
   ],
   "source": [
    "observed"
   ]
  },
  {
   "cell_type": "markdown",
   "id": "9d27228b-1073-4f03-be30-2e3ce4612094",
   "metadata": {},
   "source": [
    "# 2. Compute chi-square statistic"
   ]
  },
  {
   "cell_type": "code",
   "execution_count": 19,
   "id": "3a3c3881-ec59-4bbd-8d55-72c6f87845b2",
   "metadata": {},
   "outputs": [
    {
     "data": {
      "text/plain": [
       "5.638227513227513"
      ]
     },
     "execution_count": 19,
     "metadata": {},
     "output_type": "execute_result"
    }
   ],
   "source": [
    "\n",
    "chi_square_stat = ((observed - expected)**2 / expected).sum()\n",
    "chi_square_stat"
   ]
  },
  {
   "cell_type": "markdown",
   "id": "19cb4b9d-949f-41c7-953a-8c1f35072b35",
   "metadata": {},
   "source": [
    "# 3. Determine critical value"
   ]
  },
  {
   "cell_type": "code",
   "execution_count": 20,
   "id": "a533b1ab-5f66-49cb-a862-b1b053cf12a1",
   "metadata": {},
   "outputs": [
    {
     "data": {
      "text/plain": [
       "2"
      ]
     },
     "execution_count": 20,
     "metadata": {},
     "output_type": "execute_result"
    }
   ],
   "source": [
    "observed.shape[1]\n"
   ]
  },
  {
   "cell_type": "code",
   "execution_count": 21,
   "id": "330fcf8a-5998-4cc9-b136-4e4fd1be3734",
   "metadata": {},
   "outputs": [
    {
     "data": {
      "text/plain": [
       "5"
      ]
     },
     "execution_count": 21,
     "metadata": {},
     "output_type": "execute_result"
    }
   ],
   "source": [
    "observed.shape[0]"
   ]
  },
  {
   "cell_type": "code",
   "execution_count": 22,
   "id": "e674d58d-d97b-4844-98be-1c54d1866e26",
   "metadata": {},
   "outputs": [],
   "source": [
    "# degree of freedom - (no.of rows-1) * (no.of columns-1)\n",
    "df= (observed.shape[0] - 1) * (observed.shape[1] - 1)"
   ]
  },
  {
   "cell_type": "code",
   "execution_count": 23,
   "id": "0c394835-0bab-46e4-acb2-daa60d238e86",
   "metadata": {},
   "outputs": [
    {
     "data": {
      "text/plain": [
       "4"
      ]
     },
     "execution_count": 23,
     "metadata": {},
     "output_type": "execute_result"
    }
   ],
   "source": [
    "df"
   ]
  },
  {
   "cell_type": "code",
   "execution_count": 24,
   "id": "8f93645b-258d-444a-80eb-d8b5a819ea13",
   "metadata": {},
   "outputs": [],
   "source": [
    "#critical value for alpha= 0.05\n",
    "alpha = 0.05\n",
    "critical_value = chi2.ppf(1-alpha,df)"
   ]
  },
  {
   "cell_type": "code",
   "execution_count": 25,
   "id": "dc55fddf-9ac2-49dc-b403-7828517be61c",
   "metadata": {},
   "outputs": [
    {
     "data": {
      "text/plain": [
       "9.487729036781154"
      ]
     },
     "execution_count": 25,
     "metadata": {},
     "output_type": "execute_result"
    }
   ],
   "source": [
    "critical_value"
   ]
  },
  {
   "cell_type": "markdown",
   "id": "5ccb2cc4-ad44-4246-ae31-132b52a17751",
   "metadata": {},
   "source": [
    "# 4.Make a decision"
   ]
  },
  {
   "cell_type": "code",
   "execution_count": 26,
   "id": "e5bef4a1-8db1-4e13-bcfb-4890aa405e46",
   "metadata": {},
   "outputs": [
    {
     "name": "stdout",
     "output_type": "stream",
     "text": [
      " the critical value is :9.487729036781154 is greater than chi_square value :5.638227513227513\n"
     ]
    }
   ],
   "source": [
    "print(f\" the critical value is :{critical_value} is greater than chi_square value :{chi_square_stat}\")"
   ]
  },
  {
   "cell_type": "code",
   "execution_count": 27,
   "id": "073b165f-2d7e-4d82-bf6a-3d0ba5621994",
   "metadata": {},
   "outputs": [],
   "source": [
    "# Decision\n",
    "# if chi_square stats is greater than critical value : reject the null hypothesis else accept the null hypothesis\n",
    "# so our decision is to accept null hypothesis\n",
    "# H0:- \"There is no association between device purchased and customer satisfaction\" -Accepted"
   ]
  },
  {
   "cell_type": "code",
   "execution_count": 28,
   "id": "47bbb452-f5e1-4bca-a7fa-6570611f465b",
   "metadata": {},
   "outputs": [
    {
     "name": "stdout",
     "output_type": "stream",
     "text": [
      "accepted-There is no association between the type of device purchased and customer satisfaction.\n"
     ]
    }
   ],
   "source": [
    "decision=print(f\"accepted-{H0}\")"
   ]
  },
  {
   "cell_type": "code",
   "execution_count": null,
   "id": "41b1e3d4-081f-4059-84a0-4870d426f5f0",
   "metadata": {},
   "outputs": [],
   "source": []
  }
 ],
 "metadata": {
  "kernelspec": {
   "display_name": "Python 3 (ipykernel)",
   "language": "python",
   "name": "python3"
  },
  "language_info": {
   "codemirror_mode": {
    "name": "ipython",
    "version": 3
   },
   "file_extension": ".py",
   "mimetype": "text/x-python",
   "name": "python",
   "nbconvert_exporter": "python",
   "pygments_lexer": "ipython3",
   "version": "3.9.13"
  }
 },
 "nbformat": 4,
 "nbformat_minor": 5
}
