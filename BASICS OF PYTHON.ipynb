{
 "cells": [
  {
   "cell_type": "markdown",
   "id": "0b8ee3f9",
   "metadata": {},
   "source": [
    "## Exercise 1: Prime Numbers"
   ]
  },
  {
   "cell_type": "markdown",
   "id": "5e8aa8a0",
   "metadata": {},
   "source": [
    "Write a Python program that checks whether a given number is prime or not. A prime number is a natural number greater than 1 that has no positive divisors other than 1 and itself."
   ]
  },
  {
   "cell_type": "code",
   "execution_count": null,
   "id": "568d33dc",
   "metadata": {},
   "outputs": [],
   "source": [
    "def is_prime(number):\n",
    "    if number < 2:\n",
    "        return False\n",
    "    for i in range(2,int(number ** 0.5)+1):\n",
    "        if number % i ==0:\n",
    "             return False\n",
    "    return True\n",
    "num= int(input(\"Enter the number: \"))\n",
    "\n",
    "if is_prime(num):\n",
    "    print(f\"{num} is a prime number.\")\n",
    "else:\n",
    "    print(f\"{num} is a prime number.\")    "
   ]
  },
  {
   "cell_type": "markdown",
   "id": "36dbcc6a",
   "metadata": {},
   "source": [
    "## Exercise 2: Product of Random Numbers"
   ]
  },
  {
   "cell_type": "markdown",
   "id": "0267774d",
   "metadata": {},
   "source": [
    "Develop a Python program that generates two random numbers and asks the user to enter the product of these numbers. The program should then check if the user's answer is correct and display an appropriate message."
   ]
  },
  {
   "cell_type": "code",
   "execution_count": null,
   "id": "37c538d5",
   "metadata": {},
   "outputs": [],
   "source": [
    "import random\n",
    "def multiplication():\n",
    "    num1=random.randint(1,10)\n",
    "    num2=random.randint(1,10)\n",
    "    \n",
    "    print(f\"What is {num1} * {num2}?\")\n",
    "    \n",
    "    user_answer=int(input(\"Your answer: \"))\n",
    "    correct_answer=num1 * num2\n",
    "    \n",
    "    if user_answer== correct_answer:\n",
    "        print(\"Correct answer!!\")\n",
    "    else:\n",
    "        print(f\"Incorrect. The correct answer is {correct_answer}.\")\n",
    "        \n",
    "multiplication()        "
   ]
  },
  {
   "cell_type": "markdown",
   "id": "5a776649",
   "metadata": {},
   "source": [
    "## Exercise 3: Squares of Even/Odd Numbers"
   ]
  },
  {
   "cell_type": "markdown",
   "id": "518b17db",
   "metadata": {},
   "source": [
    "Create a Python script that prints the squares of all even or odd numbers within the range of 100 to 200. Choose either even or odd numbers and document your choice in the code."
   ]
  },
  {
   "cell_type": "code",
   "execution_count": null,
   "id": "837170ea",
   "metadata": {},
   "outputs": [],
   "source": [
    "def print_even_squares():\n",
    "    \n",
    "    for number in range(100,201):\n",
    "        if number % 2 == 0:\n",
    "             print(f\"The square of {number} is {number**2}\")\n",
    "                \n",
    "print_even_squares()    "
   ]
  },
  {
   "cell_type": "code",
   "execution_count": null,
   "id": "b55c0110",
   "metadata": {},
   "outputs": [],
   "source": [
    "def print_odd_squares():\n",
    "    \n",
    "    for number in range(100,201):\n",
    "        if number % 2 != 0:\n",
    "             print(f\"The square of {number} is {number**2}\")\n",
    "                \n",
    "print_odd_squares()    "
   ]
  },
  {
   "cell_type": "markdown",
   "id": "c3689285",
   "metadata": {},
   "source": [
    "## Exercise 4: Word counter"
   ]
  },
  {
   "cell_type": "markdown",
   "id": "c5027d50",
   "metadata": {},
   "source": [
    "write a program to count the number of words in a given text."
   ]
  },
  {
   "cell_type": "code",
   "execution_count": null,
   "id": "5decc18a",
   "metadata": {},
   "outputs": [],
   "source": [
    "def count_words(text):\n",
    "    words= text.split()\n",
    "    return len(words)\n",
    "user_input = input(\"Enter some text: \")\n",
    "word_count = count_words(user_input)\n",
    "print(f\"The number of words in the given text is: {word_count}\")"
   ]
  },
  {
   "cell_type": "markdown",
   "id": "0da4ec44",
   "metadata": {},
   "source": [
    "## Exercise 5: Check for Palindrome"
   ]
  },
  {
   "cell_type": "markdown",
   "id": "904b1ade",
   "metadata": {},
   "source": [
    "Write a Python function called is_palindrome that takes a string as input and returns True if the string is a palindrome, and False otherwise. A palindrome is a word, phrase, number, or other sequence of characters that reads the same forward and backward, ignoring spaces, punctuation, and capitalization."
   ]
  },
  {
   "cell_type": "code",
   "execution_count": null,
   "id": "aba4cb88",
   "metadata": {},
   "outputs": [],
   "source": [
    "import string\n",
    "\n",
    "def is_palindrome(input_string):\n",
    "    \n",
    "    cleaned_string = ''.join(char.lower() for char in input_string if char.isalnum())\n",
    "    \n",
    "    return cleaned_string == cleaned_string[::-1]\n",
    "\n",
    "user_input = input(\"Enter a word or phrase: \")\n",
    "\n",
    "if is_palindrome(user_input):\n",
    "    print(\"The input is a palindrome.\")\n",
    "else:\n",
    "    print(\"The input is not a palindrome.\")\n"
   ]
  },
  {
   "cell_type": "code",
   "execution_count": null,
   "id": "951fdb98",
   "metadata": {},
   "outputs": [],
   "source": []
  }
 ],
 "metadata": {
  "kernelspec": {
   "display_name": "Python 3 (ipykernel)",
   "language": "python",
   "name": "python3"
  },
  "language_info": {
   "codemirror_mode": {
    "name": "ipython",
    "version": 3
   },
   "file_extension": ".py",
   "mimetype": "text/x-python",
   "name": "python",
   "nbconvert_exporter": "python",
   "pygments_lexer": "ipython3",
   "version": "3.9.13"
  }
 },
 "nbformat": 4,
 "nbformat_minor": 5
}
